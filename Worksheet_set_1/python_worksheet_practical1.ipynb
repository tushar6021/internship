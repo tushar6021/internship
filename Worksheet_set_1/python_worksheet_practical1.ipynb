{
 "cells": [
  {
   "cell_type": "code",
   "execution_count": 5,
   "id": "01de9c0b",
   "metadata": {},
   "outputs": [
    {
     "name": "stdout",
     "output_type": "stream",
     "text": [
      "Enter any number : 5\n",
      "120\n"
     ]
    }
   ],
   "source": [
    "#11. Write a python program to find the factorial of a number.\n",
    "\n",
    "x = int(input(\"Enter any number : \"))\n",
    "fac = 1\n",
    "if x < 0:\n",
    "   print(0)\n",
    "elif x == 0:\n",
    "   print(1)\n",
    "else:\n",
    "   for i in range(1,x + 1):\n",
    "       fac = fac*i\n",
    "   print(fac)"
   ]
  },
  {
   "cell_type": "code",
   "execution_count": 4,
   "id": "5dfafdbf",
   "metadata": {},
   "outputs": [
    {
     "name": "stdout",
     "output_type": "stream",
     "text": [
      "Enter any number : 5\n",
      "Prime number\n"
     ]
    }
   ],
   "source": [
    "#12. Write a python program to find whether a number is prime or composite.\n",
    "\n",
    "x = int(input(\"Enter any number : \"))\n",
    "if x > 1:\n",
    "    for i in range(2, x):\n",
    "        if (x % i) == 0:\n",
    "            print(\"Not prime\")\n",
    "            break\n",
    "    else:\n",
    "        print(\"Prime number\")\n",
    "elif x == 0 or 1:\n",
    "    print(\"neither prime nor composite\")\n",
    "else:\n",
    "    print(\"Composite\")"
   ]
  },
  {
   "cell_type": "code",
   "execution_count": 7,
   "id": "c1e9f9b2",
   "metadata": {},
   "outputs": [
    {
     "name": "stdout",
     "output_type": "stream",
     "text": [
      "Not palindrome\n"
     ]
    }
   ],
   "source": [
    "#13. Write a python program to check whether a given string is palindrome or not.\n",
    "\n",
    "def Palindrome(y):\n",
    "    return y == y[::-1]\n",
    " \n",
    " \n",
    "x = \"beast\"\n",
    "check = Palindrome(x)\n",
    " \n",
    "if check:\n",
    "    print(\"palindrome\")\n",
    "else:\n",
    "    print(\"Not palindrome\")"
   ]
  },
  {
   "cell_type": "code",
   "execution_count": 11,
   "id": "e626a86e",
   "metadata": {},
   "outputs": [
    {
     "name": "stdout",
     "output_type": "stream",
     "text": [
      "Hypotenuse = 5.0\n"
     ]
    }
   ],
   "source": [
    "#14. Write a Python program to get the third side of right-angled triangle from two given sides.\n",
    "\n",
    "def pythagoras(opposite_side,adjacent_side,hypotenuse):\n",
    "        if opposite_side == str(\"x\"):\n",
    "            return (\"Opposite = \" + str(((hypotenuse**2) - (adjacent_side**2))**0.5))\n",
    "        elif adjacent_side == str(\"x\"):\n",
    "            return (\"Adjacent = \" + str(((hypotenuse**2) - (opposite_side**2))**0.5))\n",
    "        elif hypotenuse == str(\"x\"):\n",
    "            return (\"Hypotenuse = \" + str(((opposite_side**2) + (adjacent_side**2))**0.5))\n",
    "        else:\n",
    "            return \"All sides are complete\"\n",
    "    \n",
    "    \n",
    "print(pythagoras(4,3,'x'))\n"
   ]
  },
  {
   "cell_type": "code",
   "execution_count": 16,
   "id": "5471507b",
   "metadata": {},
   "outputs": [
    {
     "name": "stdout",
     "output_type": "stream",
     "text": [
      "frequency of each character is :\n",
      " Counter({'i': 3, 'p': 2, 'r': 2, 'o': 2, 'n': 2, 'f': 1, 'l': 1, 'b': 1, 't': 1, 'e': 1, 's': 1, 'h': 1})\n"
     ]
    }
   ],
   "source": [
    "#15. Write a python program to print the frequency of each of the characters present in a given string\n",
    "\n",
    "\n",
    "from collections import Counter\n",
    "   \n",
    "check = \"fliprobointernship\"\n",
    "  \n",
    "final = Counter(check)\n",
    "  \n",
    "print (\"frequency of each character is :\\n \" +  str(final))"
   ]
  },
  {
   "cell_type": "code",
   "execution_count": null,
   "id": "a7840a6d",
   "metadata": {},
   "outputs": [],
   "source": []
  }
 ],
 "metadata": {
  "kernelspec": {
   "display_name": "Python 3 (ipykernel)",
   "language": "python",
   "name": "python3"
  },
  "language_info": {
   "codemirror_mode": {
    "name": "ipython",
    "version": 3
   },
   "file_extension": ".py",
   "mimetype": "text/x-python",
   "name": "python",
   "nbconvert_exporter": "python",
   "pygments_lexer": "ipython3",
   "version": "3.9.13"
  }
 },
 "nbformat": 4,
 "nbformat_minor": 5
}
